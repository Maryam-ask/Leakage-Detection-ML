{
 "cells": [
  {
   "cell_type": "code",
   "execution_count": 1,
   "metadata": {},
   "outputs": [],
   "source": [
    "import pandas as pd\n",
    "import datetime\n",
    "import matplotlib.pyplot as plt\n",
    "import wntr\n",
    "import numpy as np\n",
    "import csv\n",
    "import pickle\n",
    "import seaborn as sns\n",
    "\n",
    "from matplotlib.pyplot import figure\n",
    "from sklearn.model_selection import train_test_split \n",
    "from sklearn.tree import DecisionTreeClassifier \n",
    "from sklearn.metrics import accuracy_score\n",
    "from sklearn.svm import SVC\n",
    "from sklearn.metrics import precision_score, recall_score, f1_score\n",
    "from sklearn.ensemble import GradientBoostingClassifier\n",
    "from xgboost import XGBClassifier\n",
    "from sklearn.ensemble import RandomForestClassifier\n",
    "from sklearn.model_selection import KFold\n",
    "from sklearn.metrics import classification_report, confusion_matrix\n",
    "from sklearn.model_selection import GridSearchCV\n",
    "import warnings\n",
    "warnings.filterwarnings('ignore')"
   ]
  },
  {
   "cell_type": "code",
   "execution_count": 2,
   "metadata": {},
   "outputs": [],
   "source": [
    "# Get the L_TOWN network:\n",
    "\n",
    "inp_file = '/Users/maryam/Desktop/Thesis/KIOS-Research-BattLeDIM.git/BattLeDIM/Dataset Generator/L-TOWN_Real.inp'\n",
    "\n",
    "wn = wntr.network.WaterNetworkModel(inp_file)"
   ]
  },
  {
   "cell_type": "code",
   "execution_count": 3,
   "metadata": {},
   "outputs": [
    {
     "name": "stdout",
     "output_type": "stream",
     "text": [
      "NODES: ['n186', 'n180', 'n178', 'n174', 'n173', 'n189', 'n195', 'n197', 'n194', 'n193']\n",
      "PIPES: ['p138', 'p612', 'p140', 'p625', 'p626', 'p613', 'p85', 'p94', 'p628', 'p143', 'p630', 'p629', 'p616', 'p141', 'p605', 'p93', 'p134', 'p132', 'p601', 'p131', 'p203', 'p595', 'p136', 'p139']\n"
     ]
    }
   ],
   "source": [
    "\n",
    "\n",
    "# Bigger network chosen for  thesis picture\n",
    "nodes = ['n186','n180','n178','n174', 'n173','n189','n195', 'n197', 'n194','n193']\n",
    "pipes = ['p138','p612','p140','p625','p626','p613', 'p85','p94','p628','p143','p630','p629','p616','p141',\n",
    "         'p605','p93','p134','p132','p601','p131','p203','p595','p136','p139']\n",
    "\n",
    "pipe_diameter = {pipe: wn.get_link(pipe).diameter for pipe in pipes}\n",
    "\n",
    "# One hour time step for tests.\n",
    "#DEFAULT_TIMESTEP =  1 * 60 * 60\n",
    "\n",
    "# For every 5 minutes\n",
    "DEFAULT_TIMESTEP =  5 * 60\n",
    "\n",
    "\n",
    "print(\"NODES:\",nodes)\n",
    "print(\"PIPES:\",pipes)"
   ]
  },
  {
   "cell_type": "code",
   "execution_count": 4,
   "metadata": {},
   "outputs": [],
   "source": [
    "def createNetwork(duration, timestep):\n",
    "    wn = wntr.network.WaterNetworkModel(inp_file) \n",
    "    wn.options.hydraulic.demand_model = 'PDD' \n",
    "    wn.options.time.duration = duration \n",
    "    wn.options.time.hydraulic_timestep = timestep \n",
    "    wn.options.time.report_timestep = timestep \n",
    "    return wn\n",
    "\n",
    "\n",
    "def getLeakArea(pipe, percent): \n",
    "    d = pipe_diameter[pipe]\n",
    "    d *= percent\n",
    "    area = 3.14159 * (d / 2) ** 2 \n",
    "    return area\n",
    "\n",
    "\n",
    "def addLeak(wn, pipe, leak_area, leak_start, leak_duration): \n",
    "    node_leak = f'{pipe}_leaknode'\n",
    "    wn = wntr.morph.split_pipe(wn, pipe, f'{pipe}_X', node_leak) \n",
    "    node_leak_ref = wn.get_node(node_leak) \n",
    "    node_leak_ref.add_leak(wn, discharge_coeff=0.75, area=leak_area,\n",
    "        start_time=leak_start, end_time=(leak_start+leak_duration))\n",
    "    return wn, node_leak\n",
    "\n",
    "\n",
    "def leakResult(wn, pipe, leak_area, leak_start, leak_duration):\n",
    "    wn, leak_node = addLeak(wn, pipe, leak_area, leak_start, leak_duration) \n",
    "    sim = wntr.sim.WNTRSimulator(wn)\n",
    "    res = sim.run_sim()\n",
    "    \n",
    "    # All the pressure values for the sensors\n",
    "    data = res.node['pressure'].loc[:,nodes]\n",
    "    \n",
    "    # Get leakage in l/m\n",
    "    leak_data = res.node['leak_demand'].loc[:,leak_node].values \n",
    "    leak_data = [e * 3600 for e in leak_data]\n",
    "    \n",
    "    leak_or_no_leak = ['leak' if e > 0 else 'no_leak' for e in leak_data] \n",
    "    \n",
    "    pipe_as_str = 'pipe_id: ' + str(pipe)\n",
    "    pipe_or_no_leak = [pipe_as_str if e > 0 else 'no_leak' for e in leak_data] \n",
    "    \n",
    "    data['leak_occurance'] = leak_or_no_leak\n",
    "    data['pipe_leak_id'] = pipe_or_no_leak \n",
    "    \n",
    "    # Maybe use for some regression method\n",
    "    data['leak_amount'] = leak_data \n",
    "    return data"
   ]
  },
  {
   "cell_type": "code",
   "execution_count": 5,
   "metadata": {},
   "outputs": [],
   "source": [
    "# Generate Training data:\n",
    "def generateTrainData():\n",
    "    # If we want to use TOWN_Real.inp we dont want\n",
    "    # to load the network every time for each reset\n",
    "    # so we use pickle\n",
    "    wn = createNetwork(2 * 24 * 60 * 60, DEFAULT_TIMESTEP) \n",
    "    with open('temp_network.pickle', 'wb') as f:\n",
    "        pickle.dump(wn, f)\n",
    "    \n",
    "    leak_start = 12 * 60 * 60 \n",
    "    leak_duration = 24 * 60 * 60 \n",
    "    all_results = []\n",
    "    \n",
    "    for pipe in pipes:\n",
    "        print(pipe)\n",
    "        \n",
    "        # Use only one leak size for now.. \n",
    "        for leak_fraction in [0.15]:\n",
    "            with open('temp_network.pickle', 'rb') as f:\n",
    "                wn = pickle.load(f)\n",
    "            leak_area = getLeakArea(pipe, leak_fraction)\n",
    "            all_results.append( leakResult(wn, pipe, leak_area, leak_start,leak_duration) )\n",
    "    \n",
    "    # Make on big Dataframe\n",
    "    big_frame = pd.concat(all_results, axis=0) \n",
    "    # Store the data in a csv-file\n",
    "    with open('train_data.csv', 'w') as f:\n",
    "            w = csv.writer(f)\n",
    "            w.writerow(big_frame.columns)\n",
    "            w.writerows(big_frame.values)\n"
   ]
  },
  {
   "cell_type": "code",
   "execution_count": 6,
   "metadata": {},
   "outputs": [
    {
     "name": "stdout",
     "output_type": "stream",
     "text": [
      "p138\n",
      "p612\n",
      "p140\n",
      "p625\n",
      "p626\n",
      "p613\n",
      "p85\n",
      "p94\n",
      "p628\n",
      "p143\n",
      "p630\n",
      "p629\n",
      "p616\n",
      "p141\n",
      "p605\n",
      "p93\n",
      "p134\n",
      "p132\n",
      "p601\n",
      "p131\n",
      "p203\n",
      "p595\n",
      "p136\n",
      "p139\n"
     ]
    }
   ],
   "source": [
    "generateTrainData()"
   ]
  },
  {
   "cell_type": "code",
   "execution_count": 7,
   "metadata": {},
   "outputs": [
    {
     "data": {
      "text/html": [
       "<div>\n",
       "<style scoped>\n",
       "    .dataframe tbody tr th:only-of-type {\n",
       "        vertical-align: middle;\n",
       "    }\n",
       "\n",
       "    .dataframe tbody tr th {\n",
       "        vertical-align: top;\n",
       "    }\n",
       "\n",
       "    .dataframe thead th {\n",
       "        text-align: right;\n",
       "    }\n",
       "</style>\n",
       "<table border=\"1\" class=\"dataframe\">\n",
       "  <thead>\n",
       "    <tr style=\"text-align: right;\">\n",
       "      <th></th>\n",
       "      <th>n186</th>\n",
       "      <th>n180</th>\n",
       "      <th>n178</th>\n",
       "      <th>n174</th>\n",
       "      <th>n173</th>\n",
       "      <th>n189</th>\n",
       "      <th>n195</th>\n",
       "      <th>n197</th>\n",
       "      <th>n194</th>\n",
       "      <th>n193</th>\n",
       "      <th>leak_occurance</th>\n",
       "      <th>pipe_leak_id</th>\n",
       "      <th>leak_amount</th>\n",
       "    </tr>\n",
       "  </thead>\n",
       "  <tbody>\n",
       "    <tr>\n",
       "      <th>0</th>\n",
       "      <td>52.342023</td>\n",
       "      <td>51.384184</td>\n",
       "      <td>52.269742</td>\n",
       "      <td>52.749293</td>\n",
       "      <td>53.126603</td>\n",
       "      <td>55.507009</td>\n",
       "      <td>57.353417</td>\n",
       "      <td>57.593501</td>\n",
       "      <td>54.402627</td>\n",
       "      <td>54.458429</td>\n",
       "      <td>no_leak</td>\n",
       "      <td>no_leak</td>\n",
       "      <td>0.0</td>\n",
       "    </tr>\n",
       "    <tr>\n",
       "      <th>1</th>\n",
       "      <td>52.448203</td>\n",
       "      <td>51.490466</td>\n",
       "      <td>52.376464</td>\n",
       "      <td>52.856311</td>\n",
       "      <td>53.233936</td>\n",
       "      <td>55.614243</td>\n",
       "      <td>57.460322</td>\n",
       "      <td>57.700259</td>\n",
       "      <td>54.508926</td>\n",
       "      <td>54.564710</td>\n",
       "      <td>no_leak</td>\n",
       "      <td>no_leak</td>\n",
       "      <td>0.0</td>\n",
       "    </tr>\n",
       "    <tr>\n",
       "      <th>2</th>\n",
       "      <td>52.424206</td>\n",
       "      <td>51.466231</td>\n",
       "      <td>52.349722</td>\n",
       "      <td>52.828249</td>\n",
       "      <td>53.204589</td>\n",
       "      <td>55.585084</td>\n",
       "      <td>57.432469</td>\n",
       "      <td>57.673944</td>\n",
       "      <td>54.484706</td>\n",
       "      <td>54.540508</td>\n",
       "      <td>no_leak</td>\n",
       "      <td>no_leak</td>\n",
       "      <td>0.0</td>\n",
       "    </tr>\n",
       "    <tr>\n",
       "      <th>3</th>\n",
       "      <td>52.481496</td>\n",
       "      <td>51.523365</td>\n",
       "      <td>52.407448</td>\n",
       "      <td>52.886384</td>\n",
       "      <td>53.263455</td>\n",
       "      <td>55.644582</td>\n",
       "      <td>57.491856</td>\n",
       "      <td>57.732737</td>\n",
       "      <td>54.542313</td>\n",
       "      <td>54.598095</td>\n",
       "      <td>no_leak</td>\n",
       "      <td>no_leak</td>\n",
       "      <td>0.0</td>\n",
       "    </tr>\n",
       "    <tr>\n",
       "      <th>4</th>\n",
       "      <td>52.350331</td>\n",
       "      <td>51.392530</td>\n",
       "      <td>52.278512</td>\n",
       "      <td>52.758057</td>\n",
       "      <td>53.135214</td>\n",
       "      <td>55.515343</td>\n",
       "      <td>57.361658</td>\n",
       "      <td>57.601794</td>\n",
       "      <td>54.410968</td>\n",
       "      <td>54.466760</td>\n",
       "      <td>no_leak</td>\n",
       "      <td>no_leak</td>\n",
       "      <td>0.0</td>\n",
       "    </tr>\n",
       "  </tbody>\n",
       "</table>\n",
       "</div>"
      ],
      "text/plain": [
       "        n186       n180       n178       n174       n173       n189   \n",
       "0  52.342023  51.384184  52.269742  52.749293  53.126603  55.507009  \\\n",
       "1  52.448203  51.490466  52.376464  52.856311  53.233936  55.614243   \n",
       "2  52.424206  51.466231  52.349722  52.828249  53.204589  55.585084   \n",
       "3  52.481496  51.523365  52.407448  52.886384  53.263455  55.644582   \n",
       "4  52.350331  51.392530  52.278512  52.758057  53.135214  55.515343   \n",
       "\n",
       "        n195       n197       n194       n193 leak_occurance pipe_leak_id   \n",
       "0  57.353417  57.593501  54.402627  54.458429        no_leak      no_leak  \\\n",
       "1  57.460322  57.700259  54.508926  54.564710        no_leak      no_leak   \n",
       "2  57.432469  57.673944  54.484706  54.540508        no_leak      no_leak   \n",
       "3  57.491856  57.732737  54.542313  54.598095        no_leak      no_leak   \n",
       "4  57.361658  57.601794  54.410968  54.466760        no_leak      no_leak   \n",
       "\n",
       "   leak_amount  \n",
       "0          0.0  \n",
       "1          0.0  \n",
       "2          0.0  \n",
       "3          0.0  \n",
       "4          0.0  "
      ]
     },
     "execution_count": 7,
     "metadata": {},
     "output_type": "execute_result"
    }
   ],
   "source": [
    "# Use all sensors\n",
    "data = pd.read_csv('train_data.csv')\n",
    "\n",
    "#data.drop_duplicates(inplace=True)\n",
    "data.head()"
   ]
  },
  {
   "cell_type": "code",
   "execution_count": 8,
   "metadata": {},
   "outputs": [
    {
     "data": {
      "text/html": [
       "<div>\n",
       "<style scoped>\n",
       "    .dataframe tbody tr th:only-of-type {\n",
       "        vertical-align: middle;\n",
       "    }\n",
       "\n",
       "    .dataframe tbody tr th {\n",
       "        vertical-align: top;\n",
       "    }\n",
       "\n",
       "    .dataframe thead th {\n",
       "        text-align: right;\n",
       "    }\n",
       "</style>\n",
       "<table border=\"1\" class=\"dataframe\">\n",
       "  <thead>\n",
       "    <tr style=\"text-align: right;\">\n",
       "      <th></th>\n",
       "      <th>n186</th>\n",
       "      <th>n180</th>\n",
       "      <th>n178</th>\n",
       "      <th>n174</th>\n",
       "      <th>n173</th>\n",
       "      <th>n189</th>\n",
       "      <th>n195</th>\n",
       "      <th>n197</th>\n",
       "      <th>n194</th>\n",
       "      <th>n193</th>\n",
       "      <th>leak_amount</th>\n",
       "    </tr>\n",
       "  </thead>\n",
       "  <tbody>\n",
       "    <tr>\n",
       "      <th>count</th>\n",
       "      <td>13848.000000</td>\n",
       "      <td>13848.000000</td>\n",
       "      <td>13848.000000</td>\n",
       "      <td>13848.000000</td>\n",
       "      <td>13848.000000</td>\n",
       "      <td>13848.000000</td>\n",
       "      <td>13848.000000</td>\n",
       "      <td>13848.000000</td>\n",
       "      <td>13848.000000</td>\n",
       "      <td>13848.000000</td>\n",
       "      <td>13848.000000</td>\n",
       "    </tr>\n",
       "    <tr>\n",
       "      <th>mean</th>\n",
       "      <td>52.181813</td>\n",
       "      <td>51.233801</td>\n",
       "      <td>52.120846</td>\n",
       "      <td>52.600355</td>\n",
       "      <td>52.976654</td>\n",
       "      <td>55.344976</td>\n",
       "      <td>57.188138</td>\n",
       "      <td>57.428356</td>\n",
       "      <td>54.237032</td>\n",
       "      <td>54.292039</td>\n",
       "      <td>11.048866</td>\n",
       "    </tr>\n",
       "    <tr>\n",
       "      <th>std</th>\n",
       "      <td>0.504278</td>\n",
       "      <td>0.499559</td>\n",
       "      <td>0.493547</td>\n",
       "      <td>0.490316</td>\n",
       "      <td>0.486816</td>\n",
       "      <td>0.494612</td>\n",
       "      <td>0.501945</td>\n",
       "      <td>0.506615</td>\n",
       "      <td>0.506066</td>\n",
       "      <td>0.506159</td>\n",
       "      <td>13.332207</td>\n",
       "    </tr>\n",
       "    <tr>\n",
       "      <th>min</th>\n",
       "      <td>50.783296</td>\n",
       "      <td>49.878180</td>\n",
       "      <td>50.795456</td>\n",
       "      <td>51.284592</td>\n",
       "      <td>51.665604</td>\n",
       "      <td>53.954791</td>\n",
       "      <td>55.744026</td>\n",
       "      <td>55.937910</td>\n",
       "      <td>52.820097</td>\n",
       "      <td>52.879262</td>\n",
       "      <td>0.000000</td>\n",
       "    </tr>\n",
       "    <tr>\n",
       "      <th>25%</th>\n",
       "      <td>51.850518</td>\n",
       "      <td>50.900873</td>\n",
       "      <td>51.790909</td>\n",
       "      <td>52.273534</td>\n",
       "      <td>52.651882</td>\n",
       "      <td>55.024440</td>\n",
       "      <td>56.868019</td>\n",
       "      <td>57.104728</td>\n",
       "      <td>53.906307</td>\n",
       "      <td>53.960466</td>\n",
       "      <td>0.000000</td>\n",
       "    </tr>\n",
       "    <tr>\n",
       "      <th>50%</th>\n",
       "      <td>52.144158</td>\n",
       "      <td>51.196502</td>\n",
       "      <td>52.081701</td>\n",
       "      <td>52.561072</td>\n",
       "      <td>52.937361</td>\n",
       "      <td>55.308800</td>\n",
       "      <td>57.154191</td>\n",
       "      <td>57.394343</td>\n",
       "      <td>54.195109</td>\n",
       "      <td>54.250341</td>\n",
       "      <td>0.000000</td>\n",
       "    </tr>\n",
       "    <tr>\n",
       "      <th>75%</th>\n",
       "      <td>52.461699</td>\n",
       "      <td>51.512457</td>\n",
       "      <td>52.392102</td>\n",
       "      <td>52.872629</td>\n",
       "      <td>53.249622</td>\n",
       "      <td>55.620326</td>\n",
       "      <td>57.466116</td>\n",
       "      <td>57.712082</td>\n",
       "      <td>54.521345</td>\n",
       "      <td>54.577293</td>\n",
       "      <td>15.113012</td>\n",
       "    </tr>\n",
       "    <tr>\n",
       "      <th>max</th>\n",
       "      <td>53.137426</td>\n",
       "      <td>52.179290</td>\n",
       "      <td>53.054742</td>\n",
       "      <td>53.528283</td>\n",
       "      <td>53.898023</td>\n",
       "      <td>56.274885</td>\n",
       "      <td>58.128813</td>\n",
       "      <td>58.377246</td>\n",
       "      <td>55.196926</td>\n",
       "      <td>55.252926</td>\n",
       "      <td>41.117142</td>\n",
       "    </tr>\n",
       "  </tbody>\n",
       "</table>\n",
       "</div>"
      ],
      "text/plain": [
       "               n186          n180          n178          n174          n173   \n",
       "count  13848.000000  13848.000000  13848.000000  13848.000000  13848.000000  \\\n",
       "mean      52.181813     51.233801     52.120846     52.600355     52.976654   \n",
       "std        0.504278      0.499559      0.493547      0.490316      0.486816   \n",
       "min       50.783296     49.878180     50.795456     51.284592     51.665604   \n",
       "25%       51.850518     50.900873     51.790909     52.273534     52.651882   \n",
       "50%       52.144158     51.196502     52.081701     52.561072     52.937361   \n",
       "75%       52.461699     51.512457     52.392102     52.872629     53.249622   \n",
       "max       53.137426     52.179290     53.054742     53.528283     53.898023   \n",
       "\n",
       "               n189          n195          n197          n194          n193   \n",
       "count  13848.000000  13848.000000  13848.000000  13848.000000  13848.000000  \\\n",
       "mean      55.344976     57.188138     57.428356     54.237032     54.292039   \n",
       "std        0.494612      0.501945      0.506615      0.506066      0.506159   \n",
       "min       53.954791     55.744026     55.937910     52.820097     52.879262   \n",
       "25%       55.024440     56.868019     57.104728     53.906307     53.960466   \n",
       "50%       55.308800     57.154191     57.394343     54.195109     54.250341   \n",
       "75%       55.620326     57.466116     57.712082     54.521345     54.577293   \n",
       "max       56.274885     58.128813     58.377246     55.196926     55.252926   \n",
       "\n",
       "        leak_amount  \n",
       "count  13848.000000  \n",
       "mean      11.048866  \n",
       "std       13.332207  \n",
       "min        0.000000  \n",
       "25%        0.000000  \n",
       "50%        0.000000  \n",
       "75%       15.113012  \n",
       "max       41.117142  "
      ]
     },
     "execution_count": 8,
     "metadata": {},
     "output_type": "execute_result"
    }
   ],
   "source": [
    "data.describe()"
   ]
  },
  {
   "cell_type": "code",
   "execution_count": 9,
   "metadata": {},
   "outputs": [
    {
     "data": {
      "text/plain": [
       "n186              0\n",
       "n180              0\n",
       "n178              0\n",
       "n174              0\n",
       "n173              0\n",
       "n189              0\n",
       "n195              0\n",
       "n197              0\n",
       "n194              0\n",
       "n193              0\n",
       "leak_occurance    0\n",
       "pipe_leak_id      0\n",
       "leak_amount       0\n",
       "dtype: int64"
      ]
     },
     "execution_count": 9,
     "metadata": {},
     "output_type": "execute_result"
    }
   ],
   "source": [
    "data.isna().sum()"
   ]
  },
  {
   "cell_type": "code",
   "execution_count": 10,
   "metadata": {},
   "outputs": [
    {
     "name": "stdout",
     "output_type": "stream",
     "text": [
      "Ziro values:  n186                 0\n",
      "n180                 0\n",
      "n178                 0\n",
      "n174                 0\n",
      "n173                 0\n",
      "n189                 0\n",
      "n195                 0\n",
      "n197                 0\n",
      "n194                 0\n",
      "n193                 0\n",
      "leak_occurance       0\n",
      "pipe_leak_id         0\n",
      "leak_amount       6936\n",
      "dtype: int64\n"
     ]
    }
   ],
   "source": [
    "data_zero_value = (data == 0).sum(axis=0)\n",
    "print('Ziro values: ', data_zero_value)"
   ]
  },
  {
   "cell_type": "code",
   "execution_count": 11,
   "metadata": {},
   "outputs": [
    {
     "data": {
      "image/png": "[encoded data removed]",
      "text/plain": [
       "<Figure size 900x500 with 2 Axes>"
      ]
     },
     "metadata": {},
     "output_type": "display_data"
    }
   ],
   "source": [
    "# Create a figure with two subplots\n",
    "fig, axes = plt.subplots(1, 2, figsize=(9, 5))\n",
    "\n",
    "# Scatter plot\n",
    "axes[0].scatter(range(data.shape[0]), np.sort(data['leak_amount'].values))\n",
    "axes[0].set_xlabel('index')\n",
    "axes[0].set_ylabel('leak amount')\n",
    "axes[0].set_title(\"Leak Amounts\")\n",
    "sns.despine(ax=axes[0])\n",
    "\n",
    "# Distribution plot\n",
    "sns.distplot(data['leak_amount'], ax=axes[1])\n",
    "axes[1].set_title(\"Distribution of Leak Amount\")\n",
    "sns.despine(ax=axes[1])\n",
    "\n",
    "# Adjust spacing between subplots\n",
    "plt.tight_layout()\n",
    "\n",
    "# Show the merged plots\n",
    "plt.show()"
   ]
  },
  {
   "cell_type": "code",
   "execution_count": 12,
   "metadata": {},
   "outputs": [
    {
     "name": "stdout",
     "output_type": "stream",
     "text": [
      "            n186       n180       n178       n174       n173       n189   \n",
      "0      52.342023  51.384184  52.269742  52.749293  53.126603  55.507009  \\\n",
      "1      52.448203  51.490466  52.376464  52.856311  53.233936  55.614243   \n",
      "2      52.424206  51.466231  52.349722  52.828249  53.204589  55.585084   \n",
      "3      52.481496  51.523365  52.407448  52.886384  53.263455  55.644582   \n",
      "4      52.350331  51.392530  52.278512  52.758057  53.135214  55.515343   \n",
      "...          ...        ...        ...        ...        ...        ...   \n",
      "13843  52.353870  51.395945  52.280166  52.758727  53.135236  55.515650   \n",
      "13844  52.270579  51.312685  52.198251  52.677500  53.054200  55.433929   \n",
      "13845  52.361785  51.403863  52.288885  52.767978  53.145144  55.525917   \n",
      "13846  52.296680  51.338781  52.224791  52.704559  53.082488  55.463671   \n",
      "13847  52.347434  51.389411  52.273371  52.752308  53.129415  55.510964   \n",
      "\n",
      "            n195       n197       n194       n193  \n",
      "0      57.353417  57.593501  54.402627  54.458429  \n",
      "1      57.460322  57.700259  54.508926  54.564710  \n",
      "2      57.432469  57.673944  54.484706  54.540508  \n",
      "3      57.491856  57.732737  54.542313  54.598095  \n",
      "4      57.361658  57.601794  54.410968  54.466760  \n",
      "...          ...        ...        ...        ...  \n",
      "13843  57.362894  57.604175  54.414385  54.470211  \n",
      "13844  57.280540  57.521077  54.331172  54.386981  \n",
      "13845  57.372379  57.612772  54.422508  54.478303  \n",
      "13846  57.309555  57.549092  54.357466  54.413237  \n",
      "13847  57.357639  57.598447  54.408217  54.464011  \n",
      "\n",
      "[13848 rows x 10 columns]\n"
     ]
    }
   ],
   "source": [
    "# Use all sensors\n",
    "X = data[nodes]\n",
    "\n",
    "# 'leak' .. 'no_leak'\n",
    "y = data['leak_occurance']\n",
    "\n",
    "print(X)\n"
   ]
  },
  {
   "cell_type": "code",
   "execution_count": 13,
   "metadata": {},
   "outputs": [
    {
     "name": "stdout",
     "output_type": "stream",
     "text": [
      "leak_occurance\n",
      "no_leak    6936\n",
      "leak       6912\n",
      "Name: count, dtype: int64\n"
     ]
    }
   ],
   "source": [
    "print(y.value_counts()) # Shows if the dataset is balanced"
   ]
  },
  {
   "cell_type": "code",
   "execution_count": 14,
   "metadata": {},
   "outputs": [],
   "source": [
    "y= y.map({'leak': 1, 'no_leak': 0}).astype(int)"
   ]
  },
  {
   "cell_type": "code",
   "execution_count": 15,
   "metadata": {},
   "outputs": [
    {
     "data": {
      "text/plain": [
       "<Axes: xlabel='leak_occurance', ylabel='count'>"
      ]
     },
     "execution_count": 15,
     "metadata": {},
     "output_type": "execute_result"
    },
    {
     "data": {
      "image/png": "[encoded data removed]",
      "text/plain": [
       "<Figure size 640x480 with 1 Axes>"
      ]
     },
     "metadata": {},
     "output_type": "display_data"
    }
   ],
   "source": [
    "\n",
    "sns.countplot(x = data['leak_occurance'],label=\"Count\")\n"
   ]
  },
  {
   "cell_type": "code",
   "execution_count": 16,
   "metadata": {},
   "outputs": [
    {
     "data": {
      "text/plain": [
       "leak_occurance\n",
       "no_leak    6936\n",
       "leak       6912\n",
       "Name: count, dtype: int64"
      ]
     },
     "execution_count": 16,
     "metadata": {},
     "output_type": "execute_result"
    }
   ],
   "source": [
    "data['leak_occurance'].value_counts()"
   ]
  },
  {
   "cell_type": "code",
   "execution_count": 17,
   "metadata": {},
   "outputs": [
    {
     "name": "stdout",
     "output_type": "stream",
     "text": [
      "0.9510882608414475\n",
      "0.9529173887926055\n",
      "              precision    recall  f1-score   support\n",
      "\n",
      "           0       0.93      0.98      0.95      1695\n",
      "           1       0.98      0.93      0.95      1767\n",
      "\n",
      "    accuracy                           0.95      3462\n",
      "   macro avg       0.95      0.95      0.95      3462\n",
      "weighted avg       0.95      0.95      0.95      3462\n",
      "\n"
     ]
    }
   ],
   "source": [
    "X_train, X_test, y_train, y_test = train_test_split(X, y)\n",
    "tuned_params =  {'C': [0.1, 1, 10, 100, 1000], \n",
    "              'gamma': [1, 0.1, 0.01, 0.001, 0.0001],\n",
    "              'kernel': ['rbf']} \n",
    "\n",
    "cv_method = KFold(n_splits=4, shuffle=True)\n",
    "model = SVC()\n",
    "grid = GridSearchCV(estimator=model, param_grid=tuned_params, cv=cv_method, scoring='accuracy')\n",
    "grid.fit(X_train, y_train)\n",
    "y_pred = grid.predict(X_test)\n",
    "print(grid.best_score_)\n",
    "print(accuracy_score(y_test, y_pred))\n",
    "print(classification_report(y_test, y_pred))"
   ]
  },
  {
   "cell_type": "code",
   "execution_count": 18,
   "metadata": {},
   "outputs": [
    {
     "name": "stdout",
     "output_type": "stream",
     "text": [
      "0.9611017038149388\n",
      "0.9682264586943963\n",
      "              precision    recall  f1-score   support\n",
      "\n",
      "           0       0.94      1.00      0.97      1695\n",
      "           1       1.00      0.94      0.97      1767\n",
      "\n",
      "    accuracy                           0.97      3462\n",
      "   macro avg       0.97      0.97      0.97      3462\n",
      "weighted avg       0.97      0.97      0.97      3462\n",
      "\n"
     ]
    }
   ],
   "source": [
    "forest_params = [{'max_depth': list(range(10, 15)), 'max_features': list(range(1,14))}]\n",
    "rfc = RandomForestClassifier()\n",
    "grid_rf = GridSearchCV(estimator=rfc, param_grid=forest_params,  cv=cv_method, scoring='accuracy')\n",
    "grid_rf.fit(X_train, y_train)\n",
    "y_pred = grid_rf.predict(X_test)\n",
    "print(grid_rf.best_score_)\n",
    "print(accuracy_score(y_test, y_pred))\n",
    "print(classification_report(y_test, y_pred))"
   ]
  },
  {
   "cell_type": "code",
   "execution_count": 19,
   "metadata": {},
   "outputs": [
    {
     "name": "stdout",
     "output_type": "stream",
     "text": [
      "0.9663974610979956\n",
      "0.9702484113229347\n",
      "              precision    recall  f1-score   support\n",
      "\n",
      "           0       0.94      1.00      0.97      1695\n",
      "           1       1.00      0.94      0.97      1767\n",
      "\n",
      "    accuracy                           0.97      3462\n",
      "   macro avg       0.97      0.97      0.97      3462\n",
      "weighted avg       0.97      0.97      0.97      3462\n",
      "\n"
     ]
    }
   ],
   "source": [
    "dtr = DecisionTreeClassifier()\n",
    "parameters = {'splitter' : ['best', 'random'],\n",
    "'criterion' : ['gini', 'entropy'],\n",
    "'max_features': ['log2', 'sqrt','auto'],\n",
    "'max_depth': [2, 3, 5, 10, 17],\n",
    "'min_samples_split': [2, 3, 5, 7, 9],\n",
    "'min_samples_leaf': [1,5,8,11],\n",
    "'random_state' : [0,1,2,3,4,5]\n",
    "}\n",
    "grid_dt = GridSearchCV(estimator=dtr, param_grid=parameters,  cv=cv_method, scoring='accuracy')\n",
    "grid_dt.fit(X_train, y_train)\n",
    "y_pred = grid_dt.predict(X_test)\n",
    "print(grid_dt.best_score_)\n",
    "print(accuracy_score(y_test, y_pred))\n",
    "print(classification_report(y_test, y_pred))"
   ]
  },
  {
   "cell_type": "code",
   "execution_count": 20,
   "metadata": {},
   "outputs": [
    {
     "name": "stdout",
     "output_type": "stream",
     "text": [
      "0.9721743575762717\n",
      "0.9792027729636048\n",
      "              precision    recall  f1-score   support\n",
      "\n",
      "           0       0.96      1.00      0.98      1695\n",
      "           1       1.00      0.96      0.98      1767\n",
      "\n",
      "    accuracy                           0.98      3462\n",
      "   macro avg       0.98      0.98      0.98      3462\n",
      "weighted avg       0.98      0.98      0.98      3462\n",
      "\n"
     ]
    }
   ],
   "source": [
    "params = {\n",
    "        'min_child_weight': [1, 5, 10],\n",
    "        'gamma': [0.5, 1, 1.5, 2, 5],\n",
    "        'subsample': [0.6, 0.8, 1.0],\n",
    "        'colsample_bytree': [0.6, 0.8, 1.0],\n",
    "        'max_depth': [3, 4, 5]\n",
    "        }\n",
    "xgboost = XGBClassifier()\n",
    "grid_xg = GridSearchCV(estimator=xgboost, param_grid=params,  cv=cv_method, scoring='accuracy')\n",
    "grid_xg.fit(X_train, y_train)\n",
    "y_pred = grid_xg.predict(X_test)\n",
    "print(grid_xg.best_score_)\n",
    "print(accuracy_score(y_test, y_pred))\n",
    "print(classification_report(y_test, y_pred))"
   ]
  },
  {
   "cell_type": "code",
   "execution_count": 21,
   "metadata": {},
   "outputs": [],
   "source": [
    "# DecisionTree\n",
    "def test_tree(X, y):\n",
    "    X_train, X_test, y_train, y_test = train_test_split(X, y, test_size=0.2, random_state=3)\n",
    "    dt = DecisionTreeClassifier() \n",
    "    dt.fit(X_train, y_train)\n",
    "    y_pred = dt.predict(X_test)\n",
    "    score = accuracy_score(y_test, y_pred) # accuracy of the model\n",
    "    precision = precision_score(y_test, y_pred) # precision of the model\n",
    "    recall = recall_score(y_test, y_pred) # recall of the model\n",
    "    f1Score = f1_score(y_test, y_pred) # f1_score of the model\n",
    "    return score, precision,recall, f1Score"
   ]
  },
  {
   "cell_type": "code",
   "execution_count": 22,
   "metadata": {},
   "outputs": [],
   "source": [
    "# SVC\n",
    "def test_svc(X, y):\n",
    "    X_train, X_test, y_train, y_test = train_test_split(X, y, test_size=0.2,random_state=3)\n",
    "    model = SVC()\n",
    "    model.fit(X_train, y_train)\n",
    "    y_pred = model.predict(X_test)\n",
    "    score = accuracy_score(y_test, y_pred) # accuracy of the model\n",
    "    precision = precision_score(y_test, y_pred) # precision of the model\n",
    "    recall = recall_score(y_test, y_pred) # recall of the model\n",
    "    f1Score = f1_score(y_test, y_pred) # f1_score of the model\n",
    "    return score, precision, recall, f1Score\n"
   ]
  },
  {
   "cell_type": "code",
   "execution_count": 23,
   "metadata": {},
   "outputs": [],
   "source": [
    "# XGBoost\n",
    "def test_gb(X, y):\n",
    "    X_train, X_test, y_train, y_test = train_test_split(X, y, test_size=0.2,random_state=3)\n",
    "    clf1 = XGBClassifier()\n",
    "    clf1.fit(X_train, y_train)\n",
    "    y_pred = clf1.predict(X_test)\n",
    "    score = accuracy_score(y_test, y_pred)\n",
    "    precision = precision_score(y_test, y_pred) # precision of the model\n",
    "    recall = recall_score(y_test, y_pred) # recall of the model\n",
    "    f1Score = f1_score(y_test, y_pred) # f1_score of the model\n",
    "    return score, precision, recall, f1Score"
   ]
  },
  {
   "cell_type": "code",
   "execution_count": 24,
   "metadata": {},
   "outputs": [],
   "source": [
    "# Random forest\n",
    "def test_rf(X, y):\n",
    "    X_train, X_test, y_train, y_test = train_test_split(X, y, test_size=0.2,random_state=3)\n",
    "    clf = RandomForestClassifier()\n",
    "    clf.fit(X_train, y_train)\n",
    "    y_pred = clf.predict(X_test)\n",
    "    score = accuracy_score(y_test, y_pred) \n",
    "    precision = precision_score(y_test, y_pred) # precision of the model\n",
    "    recall = recall_score(y_test, y_pred) # recall of the model\n",
    "    f1Score = f1_score(y_test, y_pred) # f1_score of the model\n",
    "    return score, precision, recall, f1Score"
   ]
  },
  {
   "cell_type": "code",
   "execution_count": 25,
   "metadata": {},
   "outputs": [
    {
     "name": "stdout",
     "output_type": "stream",
     "text": [
      "Leak detection DTC accuracy\t: 98.9%\n",
      "Leak detection DTC precision\t: 100.0%\n",
      "Leak detection DTC recall\t: 97.9%\n",
      "Leak detection DTC f1_score\t: 98.9%\n",
      "-------------------------------------------------------------\n",
      "Leak detection SVC accuracy\t: 68.9%\n",
      "Leak detection SVC precision\t: 86.9%\n",
      "Leak detection SVC recall\t: 45.9%\n",
      "Leak detection SVC f1_score\t: 60.1%\n",
      "-------------------------------------------------------------\n",
      "Leak detection XGBoost accuracy\t: 97.9%\n",
      "Leak detection XGBoost precision\t: 100.0%\n",
      "Leak detection XGBoost recall\t: 95.8%\n",
      "Leak detection XGBoost f1_score\t: 97.9%\n",
      "-------------------------------------------------------------\n",
      "Leak detection RandomForest Accuracy\t: 99.2%\n",
      "Leak detection RandomForest precision\t: 100.0%\n",
      "Leak detection RandomForest recall\t: 98.4%\n",
      "Leak detection RandomForest f1_score\t: 99.2%\n"
     ]
    }
   ],
   "source": [
    "\n",
    "score_DT, precision_DT, recall_DT, f1Score_DT = test_tree(X,y)\n",
    "print(\"Leak detection DTC accuracy\\t: {:.1f}%\".format(score_DT*100))\n",
    "print(\"Leak detection DTC precision\\t: {:.1f}%\".format(precision_DT*100))\n",
    "print(\"Leak detection DTC recall\\t: {:.1f}%\".format(recall_DT*100))\n",
    "print(\"Leak detection DTC f1_score\\t: {:.1f}%\".format(f1Score_DT*100))\n",
    "print('-------------------------------------------------------------')\n",
    "score_SVC , precision_SVC, recall_SVC, f1Score_SVC= test_svc(X,y)\n",
    "print(\"Leak detection SVC accuracy\\t: {:.1f}%\".format(score_SVC*100))\n",
    "print(\"Leak detection SVC precision\\t: {:.1f}%\".format(precision_SVC*100))\n",
    "print(\"Leak detection SVC recall\\t: {:.1f}%\".format(recall_SVC*100))\n",
    "print(\"Leak detection SVC f1_score\\t: {:.1f}%\".format(f1Score_SVC*100))\n",
    "print('-------------------------------------------------------------')\n",
    "score_XG, precision_XG, recall_XG, f1Score_XG = test_gb(X,y)\n",
    "print(\"Leak detection XGBoost accuracy\\t: {:.1f}%\".format(score_XG*100))\n",
    "print(\"Leak detection XGBoost precision\\t: {:.1f}%\".format(precision_XG*100))\n",
    "print(\"Leak detection XGBoost recall\\t: {:.1f}%\".format(recall_XG*100))\n",
    "print(\"Leak detection XGBoost f1_score\\t: {:.1f}%\".format(f1Score_XG*100))\n",
    "print('-------------------------------------------------------------')\n",
    "score_RF, precision_RF, recall_RF, f1Score_RF = test_rf(X,y)\n",
    "print(\"Leak detection RandomForest Accuracy\\t: {:.1f}%\".format(score_RF*100))\n",
    "print(\"Leak detection RandomForest precision\\t: {:.1f}%\".format(precision_RF*100))\n",
    "print(\"Leak detection RandomForest recall\\t: {:.1f}%\".format(recall_RF*100))\n",
    "print(\"Leak detection RandomForest f1_score\\t: {:.1f}%\".format(f1Score_RF*100))"
   ]
  }
 ],
 "metadata": {
  "kernelspec": {
   "display_name": "Python 3",
   "language": "python",
   "name": "python3"
  },
  "language_info": {
   "codemirror_mode": {
    "name": "ipython",
    "version": 3
   },
   "file_extension": ".py",
   "mimetype": "text/x-python",
   "name": "python",
   "nbconvert_exporter": "python",
   "pygments_lexer": "ipython3",
   "version": "3.11.3"
  },
  "orig_nbformat": 4
 },
 "nbformat": 4,
 "nbformat_minor": 2
}
