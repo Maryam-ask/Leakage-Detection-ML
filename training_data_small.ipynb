{
 "cells": [
  {
   "cell_type": "code",
   "execution_count": 76,
   "metadata": {},
   "outputs": [],
   "source": [
    "import pandas as pd\n",
    "import datetime\n",
    "import matplotlib.pyplot as plt\n",
    "import wntr\n",
    "import numpy as np\n",
    "import csv\n",
    "import pickle\n",
    "import seaborn as sns\n",
    "\n",
    "from matplotlib.pyplot import figure\n",
    "from sklearn.model_selection import train_test_split \n",
    "from sklearn.tree import DecisionTreeClassifier \n",
    "from sklearn.metrics import accuracy_score\n",
    "from sklearn.svm import SVC\n",
    "from sklearn.metrics import precision_score, recall_score, f1_score\n",
    "from sklearn.ensemble import GradientBoostingClassifier\n",
    "from xgboost import XGBClassifier\n",
    "from sklearn.ensemble import RandomForestClassifier\n",
    "from sklearn.model_selection import KFold\n",
    "from sklearn.metrics import classification_report, confusion_matrix\n",
    "from sklearn.model_selection import GridSearchCV\n",
    "import warnings\n",
    "warnings.filterwarnings('ignore')"
   ]
  },
  {
   "cell_type": "code",
   "execution_count": 77,
   "metadata": {},
   "outputs": [],
   "source": [
    "# Get the L_TOWN network:\n",
    "\n",
    "inp_file = '/Users/maryam/Desktop/Thesis/KIOS-Research-BattLeDIM.git/BattLeDIM/Dataset Generator/L-TOWN_Real.inp'\n",
    "\n",
    "wn = wntr.network.WaterNetworkModel(inp_file)"
   ]
  },
  {
   "cell_type": "code",
   "execution_count": 78,
   "metadata": {},
   "outputs": [
    {
     "name": "stdout",
     "output_type": "stream",
     "text": [
      "NODES: ['n218', 'n219', 'n220', 'n221', 'n222']\n",
      "PIPES: ['p683', 'p681', 'p682', 'p690', 'p208', 'p687', 'p686', 'p57']\n"
     ]
    }
   ],
   "source": [
    "\n",
    "#network on the top\n",
    "nodes =  ['n218', 'n219', 'n220', 'n221', 'n222']\n",
    "pipes = ['p683', 'p681', 'p682', 'p690', 'p208', 'p687', 'p686', 'p57']\n",
    "\n",
    "\n",
    "pipe_diameter = {pipe: wn.get_link(pipe).diameter for pipe in pipes}\n",
    "\n",
    "# For every 5 minutes\n",
    "DEFAULT_TIMESTEP =  5 * 60\n",
    "\n",
    "\n",
    "print(\"NODES:\",nodes)\n",
    "print(\"PIPES:\",pipes)"
   ]
  },
  {
   "cell_type": "code",
   "execution_count": 79,
   "metadata": {},
   "outputs": [],
   "source": [
    "def createNetwork(duration, timestep):\n",
    "    wn = wntr.network.WaterNetworkModel(inp_file) \n",
    "    wn.options.hydraulic.demand_model = 'PDD' \n",
    "    wn.options.time.duration = duration \n",
    "    wn.options.time.hydraulic_timestep = timestep \n",
    "    wn.options.time.report_timestep = timestep \n",
    "    return wn\n",
    "\n",
    "\n",
    "def getLeakArea(pipe, percent): \n",
    "    d = pipe_diameter[pipe]\n",
    "    d *= percent\n",
    "    area = 3.14159 * (d / 2) ** 2 \n",
    "    return area\n",
    "\n",
    "\n",
    "def addLeak(wn, pipe, leak_area, leak_start, leak_duration): \n",
    "    node_leak = f'{pipe}_leaknode'\n",
    "    wn = wntr.morph.split_pipe(wn, pipe, f'{pipe}_X', node_leak) \n",
    "    node_leak_ref = wn.get_node(node_leak) \n",
    "    node_leak_ref.add_leak(wn, discharge_coeff=0.75, area=leak_area,\n",
    "        start_time=leak_start, end_time=(leak_start+leak_duration))\n",
    "    return wn, node_leak\n",
    "\n",
    "\n",
    "def leakResult(wn, pipe, leak_area, leak_start, leak_duration):\n",
    "    wn, leak_node = addLeak(wn, pipe, leak_area, leak_start, leak_duration) \n",
    "    sim = wntr.sim.WNTRSimulator(wn)\n",
    "    res = sim.run_sim()\n",
    "    \n",
    "    # All the pressure values for the sensors\n",
    "    data = res.node['pressure'].loc[:,nodes]\n",
    "    \n",
    "    # Get leakage in l/m\n",
    "    leak_data = res.node['leak_demand'].loc[:,leak_node].values \n",
    "    leak_data = [e * 3600 for e in leak_data]\n",
    "    \n",
    "    leak_or_no_leak = ['leak' if e > 0 else 'no_leak' for e in leak_data] \n",
    "    \n",
    "    pipe_as_str = 'pipe_id: ' + str(pipe)\n",
    "    pipe_or_no_leak = [pipe_as_str if e > 0 else 'no_leak' for e in leak_data] \n",
    "    \n",
    "    data['leak_occurance'] = leak_or_no_leak\n",
    "    data['pipe_leak_id'] = pipe_or_no_leak \n",
    "    \n",
    "    # Maybe use for some regression method\n",
    "    data['leak_amount'] = leak_data \n",
    "    return data"
   ]
  },
  {
   "cell_type": "code",
   "execution_count": 80,
   "metadata": {},
   "outputs": [],
   "source": [
    "# Generate Training data:\n",
    "def generateTrainData():\n",
    "    # If we want to use TOWN_Real.inp we dont want\n",
    "    # to load the network every time for each reset\n",
    "    # so we use pickle\n",
    "    wn = createNetwork(2 * 24 * 60 * 60, DEFAULT_TIMESTEP) \n",
    "    with open('temp_network.pickle', 'wb') as f:\n",
    "        pickle.dump(wn, f)\n",
    "    \n",
    "    leak_start = 12 * 60 * 60 \n",
    "    leak_duration = 24 * 60 * 60 \n",
    "    all_results = []\n",
    "    \n",
    "    for pipe in pipes:\n",
    "        print(pipe)\n",
    "        \n",
    "        # Use only one leak size for now.. \n",
    "        for leak_fraction in [0.15]:\n",
    "            with open('temp_network.pickle', 'rb') as f:\n",
    "                wn = pickle.load(f)\n",
    "            leak_area = getLeakArea(pipe, leak_fraction)\n",
    "            all_results.append( leakResult(wn, pipe, leak_area, leak_start,leak_duration) )\n",
    "    \n",
    "    # Make on big Dataframe\n",
    "    big_frame = pd.concat(all_results, axis=0) \n",
    "    # Store the data in a csv-file\n",
    "    with open('train_data.csv', 'w') as f:\n",
    "            w = csv.writer(f)\n",
    "            w.writerow(big_frame.columns)\n",
    "            w.writerows(big_frame.values)\n"
   ]
  },
  {
   "cell_type": "code",
   "execution_count": 81,
   "metadata": {},
   "outputs": [
    {
     "name": "stdout",
     "output_type": "stream",
     "text": [
      "p683\n",
      "p681\n",
      "p682\n",
      "p690\n",
      "p208\n",
      "p687\n",
      "p686\n",
      "p57\n"
     ]
    }
   ],
   "source": [
    "generateTrainData()"
   ]
  },
  {
   "cell_type": "code",
   "execution_count": 82,
   "metadata": {},
   "outputs": [
    {
     "data": {
      "text/html": [
       "<div>\n",
       "<style scoped>\n",
       "    .dataframe tbody tr th:only-of-type {\n",
       "        vertical-align: middle;\n",
       "    }\n",
       "\n",
       "    .dataframe tbody tr th {\n",
       "        vertical-align: top;\n",
       "    }\n",
       "\n",
       "    .dataframe thead th {\n",
       "        text-align: right;\n",
       "    }\n",
       "</style>\n",
       "<table border=\"1\" class=\"dataframe\">\n",
       "  <thead>\n",
       "    <tr style=\"text-align: right;\">\n",
       "      <th></th>\n",
       "      <th>n218</th>\n",
       "      <th>n219</th>\n",
       "      <th>n220</th>\n",
       "      <th>n221</th>\n",
       "      <th>n222</th>\n",
       "      <th>leak_occurance</th>\n",
       "      <th>pipe_leak_id</th>\n",
       "      <th>leak_amount</th>\n",
       "    </tr>\n",
       "  </thead>\n",
       "  <tbody>\n",
       "    <tr>\n",
       "      <th>0</th>\n",
       "      <td>44.530304</td>\n",
       "      <td>45.678510</td>\n",
       "      <td>43.419947</td>\n",
       "      <td>45.945172</td>\n",
       "      <td>46.107824</td>\n",
       "      <td>no_leak</td>\n",
       "      <td>no_leak</td>\n",
       "      <td>0.0</td>\n",
       "    </tr>\n",
       "    <tr>\n",
       "      <th>1</th>\n",
       "      <td>44.631108</td>\n",
       "      <td>45.778914</td>\n",
       "      <td>43.519671</td>\n",
       "      <td>46.047539</td>\n",
       "      <td>46.210850</td>\n",
       "      <td>no_leak</td>\n",
       "      <td>no_leak</td>\n",
       "      <td>0.0</td>\n",
       "    </tr>\n",
       "    <tr>\n",
       "      <th>2</th>\n",
       "      <td>44.625010</td>\n",
       "      <td>45.772869</td>\n",
       "      <td>43.513512</td>\n",
       "      <td>46.040474</td>\n",
       "      <td>46.203465</td>\n",
       "      <td>no_leak</td>\n",
       "      <td>no_leak</td>\n",
       "      <td>0.0</td>\n",
       "    </tr>\n",
       "    <tr>\n",
       "      <th>3</th>\n",
       "      <td>44.669747</td>\n",
       "      <td>45.818150</td>\n",
       "      <td>43.555810</td>\n",
       "      <td>46.083064</td>\n",
       "      <td>46.246197</td>\n",
       "      <td>no_leak</td>\n",
       "      <td>no_leak</td>\n",
       "      <td>0.0</td>\n",
       "    </tr>\n",
       "    <tr>\n",
       "      <th>4</th>\n",
       "      <td>44.544889</td>\n",
       "      <td>45.692453</td>\n",
       "      <td>43.435726</td>\n",
       "      <td>45.962348</td>\n",
       "      <td>46.125195</td>\n",
       "      <td>no_leak</td>\n",
       "      <td>no_leak</td>\n",
       "      <td>0.0</td>\n",
       "    </tr>\n",
       "  </tbody>\n",
       "</table>\n",
       "</div>"
      ],
      "text/plain": [
       "        n218       n219       n220       n221       n222 leak_occurance   \n",
       "0  44.530304  45.678510  43.419947  45.945172  46.107824        no_leak  \\\n",
       "1  44.631108  45.778914  43.519671  46.047539  46.210850        no_leak   \n",
       "2  44.625010  45.772869  43.513512  46.040474  46.203465        no_leak   \n",
       "3  44.669747  45.818150  43.555810  46.083064  46.246197        no_leak   \n",
       "4  44.544889  45.692453  43.435726  45.962348  46.125195        no_leak   \n",
       "\n",
       "  pipe_leak_id  leak_amount  \n",
       "0      no_leak          0.0  \n",
       "1      no_leak          0.0  \n",
       "2      no_leak          0.0  \n",
       "3      no_leak          0.0  \n",
       "4      no_leak          0.0  "
      ]
     },
     "execution_count": 82,
     "metadata": {},
     "output_type": "execute_result"
    }
   ],
   "source": [
    "# Use all sensors\n",
    "data = pd.read_csv('train_data.csv')\n",
    "\n",
    "#data.drop_duplicates(inplace=True)\n",
    "data.head()"
   ]
  },
  {
   "cell_type": "code",
   "execution_count": 83,
   "metadata": {},
   "outputs": [
    {
     "data": {
      "text/html": [
       "<div>\n",
       "<style scoped>\n",
       "    .dataframe tbody tr th:only-of-type {\n",
       "        vertical-align: middle;\n",
       "    }\n",
       "\n",
       "    .dataframe tbody tr th {\n",
       "        vertical-align: top;\n",
       "    }\n",
       "\n",
       "    .dataframe thead th {\n",
       "        text-align: right;\n",
       "    }\n",
       "</style>\n",
       "<table border=\"1\" class=\"dataframe\">\n",
       "  <thead>\n",
       "    <tr style=\"text-align: right;\">\n",
       "      <th></th>\n",
       "      <th>n218</th>\n",
       "      <th>n219</th>\n",
       "      <th>n220</th>\n",
       "      <th>n221</th>\n",
       "      <th>n222</th>\n",
       "      <th>leak_amount</th>\n",
       "    </tr>\n",
       "  </thead>\n",
       "  <tbody>\n",
       "    <tr>\n",
       "      <th>count</th>\n",
       "      <td>4616.000000</td>\n",
       "      <td>4616.000000</td>\n",
       "      <td>4616.000000</td>\n",
       "      <td>4616.000000</td>\n",
       "      <td>4616.000000</td>\n",
       "      <td>4616.000000</td>\n",
       "    </tr>\n",
       "    <tr>\n",
       "      <th>mean</th>\n",
       "      <td>44.282705</td>\n",
       "      <td>45.431640</td>\n",
       "      <td>43.169372</td>\n",
       "      <td>45.691037</td>\n",
       "      <td>45.853930</td>\n",
       "      <td>18.884137</td>\n",
       "    </tr>\n",
       "    <tr>\n",
       "      <th>std</th>\n",
       "      <td>0.606702</td>\n",
       "      <td>0.603153</td>\n",
       "      <td>0.585090</td>\n",
       "      <td>0.583984</td>\n",
       "      <td>0.584615</td>\n",
       "      <td>22.331945</td>\n",
       "    </tr>\n",
       "    <tr>\n",
       "      <th>min</th>\n",
       "      <td>42.723060</td>\n",
       "      <td>43.894934</td>\n",
       "      <td>41.651305</td>\n",
       "      <td>44.190783</td>\n",
       "      <td>44.353720</td>\n",
       "      <td>0.000000</td>\n",
       "    </tr>\n",
       "    <tr>\n",
       "      <th>25%</th>\n",
       "      <td>43.921925</td>\n",
       "      <td>45.067728</td>\n",
       "      <td>42.821327</td>\n",
       "      <td>45.341594</td>\n",
       "      <td>45.503456</td>\n",
       "      <td>0.000000</td>\n",
       "    </tr>\n",
       "    <tr>\n",
       "      <th>50%</th>\n",
       "      <td>44.291728</td>\n",
       "      <td>45.432481</td>\n",
       "      <td>43.171858</td>\n",
       "      <td>45.691093</td>\n",
       "      <td>45.853370</td>\n",
       "      <td>0.000000</td>\n",
       "    </tr>\n",
       "    <tr>\n",
       "      <th>75%</th>\n",
       "      <td>44.650304</td>\n",
       "      <td>45.795388</td>\n",
       "      <td>43.522082</td>\n",
       "      <td>46.044825</td>\n",
       "      <td>46.207986</td>\n",
       "      <td>30.976165</td>\n",
       "    </tr>\n",
       "    <tr>\n",
       "      <th>max</th>\n",
       "      <td>45.356758</td>\n",
       "      <td>46.505237</td>\n",
       "      <td>44.205889</td>\n",
       "      <td>46.733752</td>\n",
       "      <td>46.898312</td>\n",
       "      <td>55.844169</td>\n",
       "    </tr>\n",
       "  </tbody>\n",
       "</table>\n",
       "</div>"
      ],
      "text/plain": [
       "              n218         n219         n220         n221         n222   \n",
       "count  4616.000000  4616.000000  4616.000000  4616.000000  4616.000000  \\\n",
       "mean     44.282705    45.431640    43.169372    45.691037    45.853930   \n",
       "std       0.606702     0.603153     0.585090     0.583984     0.584615   \n",
       "min      42.723060    43.894934    41.651305    44.190783    44.353720   \n",
       "25%      43.921925    45.067728    42.821327    45.341594    45.503456   \n",
       "50%      44.291728    45.432481    43.171858    45.691093    45.853370   \n",
       "75%      44.650304    45.795388    43.522082    46.044825    46.207986   \n",
       "max      45.356758    46.505237    44.205889    46.733752    46.898312   \n",
       "\n",
       "       leak_amount  \n",
       "count  4616.000000  \n",
       "mean     18.884137  \n",
       "std      22.331945  \n",
       "min       0.000000  \n",
       "25%       0.000000  \n",
       "50%       0.000000  \n",
       "75%      30.976165  \n",
       "max      55.844169  "
      ]
     },
     "execution_count": 83,
     "metadata": {},
     "output_type": "execute_result"
    }
   ],
   "source": [
    "data.describe()"
   ]
  },
  {
   "cell_type": "code",
   "execution_count": 84,
   "metadata": {},
   "outputs": [
    {
     "data": {
      "text/plain": [
       "n218              0\n",
       "n219              0\n",
       "n220              0\n",
       "n221              0\n",
       "n222              0\n",
       "leak_occurance    0\n",
       "pipe_leak_id      0\n",
       "leak_amount       0\n",
       "dtype: int64"
      ]
     },
     "execution_count": 84,
     "metadata": {},
     "output_type": "execute_result"
    }
   ],
   "source": [
    "data.isna().sum()"
   ]
  },
  {
   "cell_type": "code",
   "execution_count": 85,
   "metadata": {},
   "outputs": [
    {
     "name": "stdout",
     "output_type": "stream",
     "text": [
      "Ziro values:  n218                 0\n",
      "n219                 0\n",
      "n220                 0\n",
      "n221                 0\n",
      "n222                 0\n",
      "leak_occurance       0\n",
      "pipe_leak_id         0\n",
      "leak_amount       2312\n",
      "dtype: int64\n"
     ]
    }
   ],
   "source": [
    "data_zero_value = (data == 0).sum(axis=0)\n",
    "print('Ziro values: ', data_zero_value)"
   ]
  },
  {
   "cell_type": "code",
   "execution_count": 86,
   "metadata": {},
   "outputs": [
    {
     "data": {
      "image/png": "[encoded data removed]",
      "text/plain": [
       "<Figure size 900x500 with 2 Axes>"
      ]
     },
     "metadata": {},
     "output_type": "display_data"
    }
   ],
   "source": [
    "# Create a figure with two subplots\n",
    "fig, axes = plt.subplots(1, 2, figsize=(9, 5))\n",
    "\n",
    "# Scatter plot\n",
    "axes[0].scatter(range(data.shape[0]), np.sort(data['leak_amount'].values))\n",
    "axes[0].set_xlabel('index')\n",
    "axes[0].set_ylabel('leak amount')\n",
    "axes[0].set_title(\"Leak Amounts\")\n",
    "sns.despine(ax=axes[0])\n",
    "\n",
    "# Distribution plot\n",
    "sns.distplot(data['leak_amount'], ax=axes[1])\n",
    "axes[1].set_title(\"Distribution of Leak Amount\")\n",
    "sns.despine(ax=axes[1])\n",
    "\n",
    "# Adjust spacing between subplots\n",
    "plt.tight_layout()\n",
    "\n",
    "# Show the merged plots\n",
    "plt.show()"
   ]
  },
  {
   "cell_type": "code",
   "execution_count": 87,
   "metadata": {},
   "outputs": [
    {
     "name": "stdout",
     "output_type": "stream",
     "text": [
      "           n218       n219       n220       n221       n222\n",
      "0     44.530304  45.678510  43.419947  45.945172  46.107824\n",
      "1     44.631108  45.778914  43.519671  46.047539  46.210850\n",
      "2     44.625010  45.772869  43.513512  46.040474  46.203465\n",
      "3     44.669747  45.818150  43.555810  46.083064  46.246197\n",
      "4     44.544889  45.692453  43.435726  45.962348  46.125195\n",
      "...         ...        ...        ...        ...        ...\n",
      "4611  44.549756  45.697987  43.437735  45.963737  46.126837\n",
      "4612  44.470217  45.617234  43.365852  45.892921  46.055896\n",
      "4613  44.544179  45.692417  43.433299  45.959329  46.122270\n",
      "4614  44.486305  45.634406  43.377915  45.903217  46.065883\n",
      "4615  44.550564  45.698086  43.444022  45.972114  46.135318\n",
      "\n",
      "[4616 rows x 5 columns]\n"
     ]
    }
   ],
   "source": [
    "# Use all sensors\n",
    "X = data[nodes]\n",
    "\n",
    "# 'leak' .. 'no_leak'\n",
    "y = data['leak_occurance']\n",
    "\n",
    "print(X)\n"
   ]
  },
  {
   "cell_type": "code",
   "execution_count": 88,
   "metadata": {},
   "outputs": [
    {
     "name": "stdout",
     "output_type": "stream",
     "text": [
      "leak_occurance\n",
      "no_leak    2312\n",
      "leak       2304\n",
      "Name: count, dtype: int64\n"
     ]
    }
   ],
   "source": [
    "print(y.value_counts()) # Shows if the dataset is balanced"
   ]
  },
  {
   "cell_type": "code",
   "execution_count": 89,
   "metadata": {},
   "outputs": [],
   "source": [
    "y= y.map({'leak': 1, 'no_leak': 0}).astype(int)"
   ]
  },
  {
   "cell_type": "code",
   "execution_count": 90,
   "metadata": {},
   "outputs": [
    {
     "data": {
      "text/plain": [
       "<Axes: xlabel='leak_occurance', ylabel='count'>"
      ]
     },
     "execution_count": 90,
     "metadata": {},
     "output_type": "execute_result"
    },
    {
     "data": {
      "image/png": "[encoded data removed]",
      "text/plain": [
       "<Figure size 640x480 with 1 Axes>"
      ]
     },
     "metadata": {},
     "output_type": "display_data"
    }
   ],
   "source": [
    "\n",
    "sns.countplot(x = data['leak_occurance'],label=\"Count\")\n"
   ]
  },
  {
   "cell_type": "code",
   "execution_count": 91,
   "metadata": {},
   "outputs": [
    {
     "data": {
      "text/plain": [
       "leak_occurance\n",
       "no_leak    2312\n",
       "leak       2304\n",
       "Name: count, dtype: int64"
      ]
     },
     "execution_count": 91,
     "metadata": {},
     "output_type": "execute_result"
    }
   ],
   "source": [
    "data['leak_occurance'].value_counts()"
   ]
  },
  {
   "cell_type": "code",
   "execution_count": 92,
   "metadata": {},
   "outputs": [
    {
     "name": "stdout",
     "output_type": "stream",
     "text": [
      "              precision    recall  f1-score   support\n",
      "\n",
      "           0       0.82      0.95      0.88       556\n",
      "           1       0.95      0.81      0.87       598\n",
      "\n",
      "    accuracy                           0.88      1154\n",
      "   macro avg       0.89      0.88      0.88      1154\n",
      "weighted avg       0.89      0.88      0.88      1154\n",
      "\n"
     ]
    }
   ],
   "source": [
    "X_train, X_test, y_train, y_test = train_test_split(X, y)\n",
    "tuned_params =  {'C': [0.1, 1, 10, 100, 1000], \n",
    "              'gamma': [1, 0.1, 0.01, 0.001, 0.0001],\n",
    "              'kernel': ['rbf']} \n",
    "\n",
    "cv_method = KFold(n_splits=4, shuffle=True)\n",
    "model = SVC()\n",
    "grid = GridSearchCV(estimator=model, param_grid=tuned_params, cv=cv_method, scoring='accuracy')\n",
    "grid.fit(X_train, y_train)\n",
    "y_pred = grid.predict(X_test)\n",
    "print(classification_report(y_test, y_pred))"
   ]
  },
  {
   "cell_type": "code",
   "execution_count": 93,
   "metadata": {},
   "outputs": [
    {
     "name": "stdout",
     "output_type": "stream",
     "text": [
      "              precision    recall  f1-score   support\n",
      "\n",
      "           0       0.88      1.00      0.94       556\n",
      "           1       1.00      0.87      0.93       598\n",
      "\n",
      "    accuracy                           0.93      1154\n",
      "   macro avg       0.94      0.94      0.93      1154\n",
      "weighted avg       0.94      0.93      0.93      1154\n",
      "\n"
     ]
    }
   ],
   "source": [
    "forest_params = [{'max_depth': list(range(10, 15)), 'max_features': list(range(1,14))}]\n",
    "rfc = RandomForestClassifier()\n",
    "grid_rf = GridSearchCV(estimator=rfc, param_grid=forest_params,  cv=cv_method, scoring='accuracy')\n",
    "grid_rf.fit(X_train, y_train)\n",
    "y_pred = grid_rf.predict(X_test)\n",
    "print(classification_report(y_test, y_pred))"
   ]
  },
  {
   "cell_type": "code",
   "execution_count": 94,
   "metadata": {},
   "outputs": [
    {
     "name": "stdout",
     "output_type": "stream",
     "text": [
      "              precision    recall  f1-score   support\n",
      "\n",
      "           0       0.90      1.00      0.95       556\n",
      "           1       1.00      0.90      0.95       598\n",
      "\n",
      "    accuracy                           0.95      1154\n",
      "   macro avg       0.95      0.95      0.95      1154\n",
      "weighted avg       0.95      0.95      0.95      1154\n",
      "\n"
     ]
    }
   ],
   "source": [
    "dtr = DecisionTreeClassifier()\n",
    "parameters = {'splitter' : ['best', 'random'],\n",
    "'criterion' : ['gini', 'entropy'],\n",
    "'max_features': ['log2', 'sqrt','auto'],\n",
    "'max_depth': [2, 3, 5, 10, 17],\n",
    "'min_samples_split': [2, 3, 5, 7, 9],\n",
    "'min_samples_leaf': [1,5,8,11],\n",
    "'random_state' : [0,1,2,3,4,5]\n",
    "}\n",
    "grid_dt = GridSearchCV(estimator=dtr, param_grid=parameters,  cv=cv_method, scoring='accuracy')\n",
    "grid_dt.fit(X_train, y_train)\n",
    "y_pred = grid_dt.predict(X_test)\n",
    "print(classification_report(y_test, y_pred))"
   ]
  },
  {
   "cell_type": "code",
   "execution_count": 95,
   "metadata": {},
   "outputs": [
    {
     "name": "stdout",
     "output_type": "stream",
     "text": [
      "              precision    recall  f1-score   support\n",
      "\n",
      "           0       0.88      1.00      0.94       556\n",
      "           1       1.00      0.88      0.93       598\n",
      "\n",
      "    accuracy                           0.94      1154\n",
      "   macro avg       0.94      0.94      0.94      1154\n",
      "weighted avg       0.94      0.94      0.94      1154\n",
      "\n"
     ]
    }
   ],
   "source": [
    "params = {\n",
    "        'min_child_weight': [1, 5, 10],\n",
    "        'gamma': [0.5, 1, 1.5, 2, 5],\n",
    "        'subsample': [0.6, 0.8, 1.0],\n",
    "        'colsample_bytree': [0.6, 0.8, 1.0],\n",
    "        'max_depth': [3, 4, 5]\n",
    "        }\n",
    "xgboost = XGBClassifier()\n",
    "grid_xg = GridSearchCV(estimator=xgboost, param_grid=params,  cv=cv_method, scoring='accuracy')\n",
    "grid_xg.fit(X_train, y_train)\n",
    "y_pred = grid_xg.predict(X_test)\n",
    "\n",
    "print(classification_report(y_test, y_pred))"
   ]
  },
  {
   "cell_type": "code",
   "execution_count": 96,
   "metadata": {},
   "outputs": [],
   "source": [
    "# DecisionTree\n",
    "def test_tree(X, y):\n",
    "    X_train, X_test, y_train, y_test = train_test_split(X, y, test_size=0.2, random_state=3)\n",
    "    dt = DecisionTreeClassifier() \n",
    "    dt.fit(X_train, y_train)\n",
    "    y_pred = dt.predict(X_test)\n",
    "    score = accuracy_score(y_test, y_pred) # accuracy of the model\n",
    "    precision = precision_score(y_test, y_pred) # precision of the model\n",
    "    recall = recall_score(y_test, y_pred) # recall of the model\n",
    "    f1Score = f1_score(y_test, y_pred) # f1_score of the model\n",
    "    return score, precision,recall, f1Score"
   ]
  },
  {
   "cell_type": "code",
   "execution_count": 97,
   "metadata": {},
   "outputs": [],
   "source": [
    "# SVC\n",
    "def test_svc(X, y):\n",
    "    X_train, X_test, y_train, y_test = train_test_split(X, y, test_size=0.2,random_state=3)\n",
    "    model = SVC()\n",
    "    model.fit(X_train, y_train)\n",
    "    y_pred = model.predict(X_test)\n",
    "    score = accuracy_score(y_test, y_pred) # accuracy of the model\n",
    "    precision = precision_score(y_test, y_pred) # precision of the model\n",
    "    recall = recall_score(y_test, y_pred) # recall of the model\n",
    "    f1Score = f1_score(y_test, y_pred) # f1_score of the model\n",
    "    return score, precision, recall, f1Score\n"
   ]
  },
  {
   "cell_type": "code",
   "execution_count": 98,
   "metadata": {},
   "outputs": [],
   "source": [
    "# XGBoost\n",
    "def test_gb(X, y):\n",
    "    X_train, X_test, y_train, y_test = train_test_split(X, y, test_size=0.2,random_state=3)\n",
    "    clf1 = XGBClassifier()\n",
    "    clf1.fit(X_train, y_train)\n",
    "    y_pred = clf1.predict(X_test)\n",
    "    score = accuracy_score(y_test, y_pred)\n",
    "    precision = precision_score(y_test, y_pred) # precision of the model\n",
    "    recall = recall_score(y_test, y_pred) # recall of the model\n",
    "    f1Score = f1_score(y_test, y_pred) # f1_score of the model\n",
    "    return score, precision, recall, f1Score"
   ]
  },
  {
   "cell_type": "code",
   "execution_count": 99,
   "metadata": {},
   "outputs": [],
   "source": [
    "# Random forest\n",
    "def test_rf(X, y):\n",
    "    X_train, X_test, y_train, y_test = train_test_split(X, y, test_size=0.2,random_state=3)\n",
    "    clf = RandomForestClassifier()\n",
    "    clf.fit(X_train, y_train)\n",
    "    y_pred = clf.predict(X_test)\n",
    "    score = accuracy_score(y_test, y_pred) \n",
    "    precision = precision_score(y_test, y_pred) # precision of the model\n",
    "    recall = recall_score(y_test, y_pred) # recall of the model\n",
    "    f1Score = f1_score(y_test, y_pred) # f1_score of the model\n",
    "    return score, precision, recall, f1Score"
   ]
  },
  {
   "cell_type": "code",
   "execution_count": 100,
   "metadata": {},
   "outputs": [
    {
     "name": "stdout",
     "output_type": "stream",
     "text": [
      "Leak detection DTC accuracy\t: 95.8%\n",
      "Leak detection DTC precision\t: 100.0%\n",
      "Leak detection DTC recall\t: 91.6%\n",
      "Leak detection DTC f1_score\t: 95.6%\n",
      "-------------------------------------------------------------\n",
      "Leak detection SVC accuracy\t: 75.5%\n",
      "Leak detection SVC precision\t: 93.2%\n",
      "Leak detection SVC recall\t: 55.7%\n",
      "Leak detection SVC f1_score\t: 69.7%\n",
      "-------------------------------------------------------------\n",
      "Leak detection XGBoost accuracy\t: 95.9%\n",
      "Leak detection XGBoost precision\t: 100.0%\n",
      "Leak detection XGBoost recall\t: 91.9%\n",
      "Leak detection XGBoost f1_score\t: 95.8%\n",
      "-------------------------------------------------------------\n",
      "Leak detection RandomForest Accuracy\t: 97.1%\n",
      "Leak detection RandomForest precision\t: 100.0%\n",
      "Leak detection RandomForest recall\t: 94.2%\n",
      "Leak detection RandomForest f1_score\t: 97.0%\n"
     ]
    }
   ],
   "source": [
    "\n",
    "score_DT, precision_DT, recall_DT, f1Score_DT = test_tree(X,y)\n",
    "print(\"Leak detection DTC accuracy\\t: {:.1f}%\".format(score_DT*100))\n",
    "print(\"Leak detection DTC precision\\t: {:.1f}%\".format(precision_DT*100))\n",
    "print(\"Leak detection DTC recall\\t: {:.1f}%\".format(recall_DT*100))\n",
    "print(\"Leak detection DTC f1_score\\t: {:.1f}%\".format(f1Score_DT*100))\n",
    "print('-------------------------------------------------------------')\n",
    "score_SVC , precision_SVC, recall_SVC, f1Score_SVC= test_svc(X,y)\n",
    "print(\"Leak detection SVC accuracy\\t: {:.1f}%\".format(score_SVC*100))\n",
    "print(\"Leak detection SVC precision\\t: {:.1f}%\".format(precision_SVC*100))\n",
    "print(\"Leak detection SVC recall\\t: {:.1f}%\".format(recall_SVC*100))\n",
    "print(\"Leak detection SVC f1_score\\t: {:.1f}%\".format(f1Score_SVC*100))\n",
    "print('-------------------------------------------------------------')\n",
    "score_XG, precision_XG, recall_XG, f1Score_XG = test_gb(X,y)\n",
    "print(\"Leak detection XGBoost accuracy\\t: {:.1f}%\".format(score_XG*100))\n",
    "print(\"Leak detection XGBoost precision\\t: {:.1f}%\".format(precision_XG*100))\n",
    "print(\"Leak detection XGBoost recall\\t: {:.1f}%\".format(recall_XG*100))\n",
    "print(\"Leak detection XGBoost f1_score\\t: {:.1f}%\".format(f1Score_XG*100))\n",
    "print('-------------------------------------------------------------')\n",
    "score_RF, precision_RF, recall_RF, f1Score_RF = test_rf(X,y)\n",
    "print(\"Leak detection RandomForest Accuracy\\t: {:.1f}%\".format(score_RF*100))\n",
    "print(\"Leak detection RandomForest precision\\t: {:.1f}%\".format(precision_RF*100))\n",
    "print(\"Leak detection RandomForest recall\\t: {:.1f}%\".format(recall_RF*100))\n",
    "print(\"Leak detection RandomForest f1_score\\t: {:.1f}%\".format(f1Score_RF*100))"
   ]
  }
 ],
 "metadata": {
  "kernelspec": {
   "display_name": "Python 3",
   "language": "python",
   "name": "python3"
  },
  "language_info": {
   "codemirror_mode": {
    "name": "ipython",
    "version": 3
   },
   "file_extension": ".py",
   "mimetype": "text/x-python",
   "name": "python",
   "nbconvert_exporter": "python",
   "pygments_lexer": "ipython3",
   "version": "3.11.3"
  },
  "orig_nbformat": 4
 },
 "nbformat": 4,
 "nbformat_minor": 2
}
